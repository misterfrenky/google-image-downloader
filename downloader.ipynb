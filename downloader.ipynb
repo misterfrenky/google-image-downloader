{
 "cells": [
  {
   "cell_type": "code",
   "execution_count": null,
   "metadata": {},
   "outputs": [],
   "source": [
    "%pip install python-magic-bin==0.4.14\n",
    "%pip install python-magic==0.4.3 # Let try this version if python-magic-bin v0.4.14 has error\n",
    "%pip install simple-image-download"
   ]
  },
  {
   "cell_type": "code",
   "execution_count": null,
   "metadata": {},
   "outputs": [],
   "source": [
    "from simple_image_download import simple_image_download as simp \n",
    "\n",
    "response = simp.simple_image_download\n",
    "keywords = [\"apple\"]\n",
    "amount_each = 2\n",
    "\n",
    "for kw in keywords:\n",
    "  response().download(kw, amount_each)"
   ]
  }
 ],
 "metadata": {
  "kernelspec": {
   "display_name": "Python 3",
   "language": "python",
   "name": "python3"
  },
  "language_info": {
   "codemirror_mode": {
    "name": "ipython",
    "version": 3
   },
   "file_extension": ".py",
   "mimetype": "text/x-python",
   "name": "python",
   "nbconvert_exporter": "python",
   "pygments_lexer": "ipython3",
   "version": "3.11.3"
  },
  "orig_nbformat": 4
 },
 "nbformat": 4,
 "nbformat_minor": 2
}
